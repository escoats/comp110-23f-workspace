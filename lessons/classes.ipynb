{
 "cells": [
  {
   "cell_type": "markdown",
   "metadata": {},
   "source": [
    "str keys represent basketball games, list[int] values represent points scored by players.\n",
    "return a new dictionary {str, bool} that maps each game to a boolean value for free biscuits (true if points add to 100+, false otherwise)"
   ]
  },
  {
   "cell_type": "code",
   "execution_count": 9,
   "metadata": {},
   "outputs": [
    {
     "data": {
      "text/plain": [
       "{'UNCvsDUKE': True, 'UNCvsState': False}"
      ]
     },
     "execution_count": 9,
     "metadata": {},
     "output_type": "execute_result"
    }
   ],
   "source": [
    "def free_biscuits(input: dict[str, list[int]]) -> dict[str, bool]:\n",
    "    \"\"\"docstring.\"\"\"\n",
    "    result: dict[str, bool] = {}\n",
    "    for key in input:\n",
    "        # for each list in the dictionary, sum up its values\n",
    "        list_to_sum: list[int] = input[key]\n",
    "        sum: int = 0\n",
    "        for element in list_to_sum:\n",
    "            sum += element\n",
    "        result[key] = (sum >= 100)\n",
    "    return result\n",
    "\n",
    "\n",
    "free_biscuits({\"UNCvsDUKE\": [38, 20, 42], \"UNCvsState\": [9, 51, 16, 23]})"
   ]
  },
  {
   "cell_type": "markdown",
   "metadata": {},
   "source": [
    "Write a function called max_key. \n",
    "\n",
    "Given a dictionary with `str` keys and `list[int]` values, return a `str` with the name of the key whose list has the highest sum of values. \n",
    "\n",
    "Example: `max_key({\"a\": [1,2,3], \"b\": [4,5,6]})` should return `\"b\"` because the sum of `a`’s elements is 1 + 2 + 3 = 6 and the sum of `b`’s elements is 4 + 5 + 6 = 15, and 15 > 6."
   ]
  },
  {
   "cell_type": "code",
   "execution_count": 7,
   "metadata": {},
   "outputs": [
    {
     "name": "stdout",
     "output_type": "stream",
     "text": [
      "6 0\n",
      "15 6\n",
      "1 15\n"
     ]
    },
    {
     "data": {
      "text/plain": [
       "'b'"
      ]
     },
     "execution_count": 7,
     "metadata": {},
     "output_type": "execute_result"
    }
   ],
   "source": [
    "def max_key(input: dict[str, list[int]]) -> str:\n",
    "    max: int = 0\n",
    "    biggest_key: str = \"\"\n",
    "    for key in input:\n",
    "        total: int = 0\n",
    "        for item in input[key]:\n",
    "            total += item\n",
    "        if total > max:\n",
    "            biggest_key = key\n",
    "            max = total\n",
    "    return biggest_key"
   ]
  },
  {
   "cell_type": "markdown",
   "metadata": {},
   "source": [
    "Write a function called multiples. \n",
    "\n",
    "Given a list[int], multiples should return a list[bool] that tells whether each int value is a multiple of the previous value. \n",
    "\n",
    "For the first number in the list, you should wrap around the list and compare this int to the last number in the list.\n",
    "\n",
    "Example: multiples([2, 3, 4, 8, 16, 2, 4, 2]) should return [True, False, False, True, True, False, True, False]."
   ]
  },
  {
   "cell_type": "code",
   "execution_count": 8,
   "metadata": {},
   "outputs": [
    {
     "data": {
      "text/plain": [
       "[True, False, False, True, True, False, True, False]"
      ]
     },
     "execution_count": 8,
     "metadata": {},
     "output_type": "execute_result"
    }
   ],
   "source": [
    "def multiples(input: list[int]) -> list[bool]:\n",
    "    result: list[bool] = []\n",
    "    for i in range(0, len(input)):\n",
    "        if input[i] % input[i-1] == 0:\n",
    "            result.append(True)\n",
    "        else:\n",
    "            result.append(False)\n",
    "    return result\n",
    "\n",
    "multiples([2, 3, 4, 8, 16, 2, 4, 2])"
   ]
  },
  {
   "cell_type": "markdown",
   "metadata": {},
   "source": [
    "Write a function called merge_lists. \n",
    "\n",
    "Given a list[str] and a list[int], merge_lists should return a dict[str, int] that maps each item in the first list to its corresponding item in the second (based on index). \n",
    "\n",
    "If the lists are not the same size, the function should return an empty dictionary.\n",
    "\n",
    "\n",
    "Example: merge_lists([“blue”, “yellow”, “red”], [5, 2, 4]) should return {\"blue\": 5, \"yellow\": 2, \"red\": 4}."
   ]
  },
  {
   "cell_type": "code",
   "execution_count": 10,
   "metadata": {},
   "outputs": [
    {
     "data": {
      "text/plain": [
       "{'blue': 5, 'yellow': 2, 'red': 4}"
      ]
     },
     "execution_count": 10,
     "metadata": {},
     "output_type": "execute_result"
    }
   ],
   "source": [
    "def merge_lists(keys: list[str], vals: list[int]) -> dict[str, int]:\n",
    "    result: dict[str, int] = {}\n",
    "    if len(keys) != len(vals):\n",
    "        return result\n",
    "    \n",
    "    for i in range(0, len(keys)):\n",
    "        result[keys[i]] = vals[i]\n",
    "    return result\n",
    "\n",
    "merge_lists([\"blue\", \"yellow\", \"red\"], [5, 2, 4])"
   ]
  },
  {
   "cell_type": "markdown",
   "metadata": {},
   "source": [
    "Write a function called reverse_multiply. \n",
    "\n",
    "Given a list[int], reverse_multiply should return a list[int] with the values from the original list doubled and in reverse order.\n",
    "\n",
    "Example: reverse_multiply([1, 2, 3]) should return [6, 4, 2]."
   ]
  },
  {
   "cell_type": "code",
   "execution_count": 26,
   "metadata": {},
   "outputs": [
    {
     "data": {
      "text/plain": [
       "[6, 4, 2]"
      ]
     },
     "execution_count": 26,
     "metadata": {},
     "output_type": "execute_result"
    }
   ],
   "source": [
    "def reverse_multiply(input: list[int]) -> list[int]:\n",
    "    result: list[int] = []\n",
    "    i: int = len(input) - 1\n",
    "    while i >= 0:\n",
    "        result.append(input[i] * 2)\n",
    "        i -= 1\n",
    "    return result\n",
    "\n",
    "reverse_multiply([1, 2, 3])"
   ]
  }
 ],
 "metadata": {
  "kernelspec": {
   "display_name": "Python 3",
   "language": "python",
   "name": "python3"
  },
  "language_info": {
   "codemirror_mode": {
    "name": "ipython",
    "version": 3
   },
   "file_extension": ".py",
   "mimetype": "text/x-python",
   "name": "python",
   "nbconvert_exporter": "python",
   "pygments_lexer": "ipython3",
   "version": "3.11.4"
  }
 },
 "nbformat": 4,
 "nbformat_minor": 2
}

{
 "cells": [
  {
   "cell_type": "markdown",
   "metadata": {},
   "source": [
    "## Class Writing Practice"
   ]
  },
  {
   "cell_type": "markdown",
   "metadata": {},
   "source": [
    "This class is slightly challenging, but take it step by step! Create a ChristmasTreeFarm class with the following specifications:\n",
    "The ChristmasTreeFarm class should have one attribute: a list[int] named plots.\n",
    "Basic behavior of plots (you will define this later):\n",
    "This list will hold values that represent the size of the tree planted in each plot.\n",
    "If the value at an index of the list is 0, then the plot at that index is empty (does not have a tree).\n",
    "Any value other than 0 indicates that a tree is growing in that plot!\n",
    "The constructor for the class should take two arguments: plots: int and initial_planting: int, both of type int.\n",
    "The first parameter, plots, represents the total number of plots in the farm. (Notice that the attribute plots and the parameter plots for this constructor are different, and represent different things!)\n",
    "The second parameter, initial_planting, represents the number of plots that that will have trees already planted in them. These initially planted plots will be trees of size 1.\n",
    "The constructor should initialize the plots attribute to an empty list, and then append initial_planting trees of size 1. After that, the constructor should fill the rest of the plots with zeroes to indicate that they are empty!\n",
    "The class should define a method called plant.\n",
    "This method should have a parameter of type int, representing the plot index at which a tree should be planted.\n",
    "The tree should be size 1 when planted. If this method is called on a plot that already has a tree, the old tree will be uprooted and replaced with a new baby tree (size 1).\n",
    "The class should define a method called growth.\n",
    "This method should increase the size of each planted tree by 1. (Remember that unplanted plots are represented by a 0 in the plots list.)\n",
    "The class should define a method called harvest.\n",
    "This method should have a parameter replant of type bool that will determine whether this method replants trees (sets them to size 1 after harvest) or leaves the plots empty (sets them to size 0 after harvest).\n",
    "For this method, trees that are at least size 5 will be harvested. The method will return the count of how many trees were successfully harvested (type int).\n",
    "The class should overload the addition operator.\n",
    "This method should work between two objects of type ChristmasTreeFarm.\n",
    "The method should return a new ChristmasTreeFarm object whose size is the sum of the given ChristmasTreeFarm’s, and whose initial plantings are the sum of the number of planted trees in the given ChristmasTreeFarms.\n",
    "Check your code: If you want to check and see if your code works, you can use the autograder. Check out the instructions below to join the autograder Gradescope if you haven’t yet. (It’s the same one used for QZ02 practice!) For the autograder to work, you need to save your file in your lessons folder, in a folder called “practice” and in a file called “tree_farm.py”. Create the zip folder by running the command: python -m tools.submission lessons/practice"
   ]
  }
 ],
 "metadata": {
  "language_info": {
   "name": "python"
  }
 },
 "nbformat": 4,
 "nbformat_minor": 2
}
